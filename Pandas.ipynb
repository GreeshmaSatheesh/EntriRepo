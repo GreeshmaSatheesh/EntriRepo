{
 "cells": [
  {
   "cell_type": "markdown",
   "id": "7ae4691a-43b0-4d43-8fd5-b65f13d47cc9",
   "metadata": {},
   "source": [
    "# Pandas"
   ]
  },
  {
   "cell_type": "code",
   "execution_count": 1,
   "id": "f0137b6d-00bf-4919-bf7d-ca54d64e52c6",
   "metadata": {},
   "outputs": [
    {
     "name": "stdout",
     "output_type": "stream",
     "text": [
      "Collecting pandasNote: you may need to restart the kernel to use updated packages.\n",
      "\n",
      "  Downloading pandas-2.1.1-cp311-cp311-win_amd64.whl (10.6 MB)\n",
      "                                              0.0/10.6 MB ? eta -:--:--\n",
      "                                              0.1/10.6 MB 2.6 MB/s eta 0:00:04\n",
      "                                              0.2/10.6 MB 2.0 MB/s eta 0:00:06\n",
      "     -                                        0.3/10.6 MB 2.0 MB/s eta 0:00:06\n",
      "     -                                        0.3/10.6 MB 2.0 MB/s eta 0:00:06\n",
      "     -                                        0.3/10.6 MB 1.4 MB/s eta 0:00:08\n",
      "     -                                        0.4/10.6 MB 1.5 MB/s eta 0:00:07\n",
      "     --                                       0.6/10.6 MB 1.8 MB/s eta 0:00:06\n",
      "     --                                       0.6/10.6 MB 1.8 MB/s eta 0:00:06\n",
      "     --                                       0.7/10.6 MB 1.6 MB/s eta 0:00:07\n",
      "     --                                       0.7/10.6 MB 1.6 MB/s eta 0:00:07\n",
      "     --                                       0.8/10.6 MB 1.6 MB/s eta 0:00:07\n",
      "     ---                                      0.8/10.6 MB 1.5 MB/s eta 0:00:07\n",
      "     ---                                      1.0/10.6 MB 1.5 MB/s eta 0:00:07\n",
      "     ----                                     1.1/10.6 MB 1.6 MB/s eta 0:00:06\n",
      "     ----                                     1.2/10.6 MB 1.7 MB/s eta 0:00:06\n",
      "     ----                                     1.3/10.6 MB 1.7 MB/s eta 0:00:06\n",
      "     -----                                    1.4/10.6 MB 1.7 MB/s eta 0:00:06\n",
      "     -----                                    1.4/10.6 MB 1.7 MB/s eta 0:00:06\n",
      "     -----                                    1.5/10.6 MB 1.7 MB/s eta 0:00:06\n",
      "     -----                                    1.6/10.6 MB 1.7 MB/s eta 0:00:06\n",
      "     ------                                   1.6/10.6 MB 1.7 MB/s eta 0:00:06\n",
      "     ------                                   1.6/10.6 MB 1.7 MB/s eta 0:00:06\n",
      "     ------                                   1.6/10.6 MB 1.7 MB/s eta 0:00:06\n",
      "     ------                                   1.6/10.6 MB 1.7 MB/s eta 0:00:06\n",
      "     ------                                   1.7/10.6 MB 1.5 MB/s eta 0:00:07\n",
      "     ------                                   1.7/10.6 MB 1.5 MB/s eta 0:00:07\n",
      "     ------                                   1.7/10.6 MB 1.4 MB/s eta 0:00:07\n",
      "     ------                                   1.8/10.6 MB 1.3 MB/s eta 0:00:07\n",
      "     -------                                  2.0/10.6 MB 1.5 MB/s eta 0:00:06\n",
      "     --------                                 2.1/10.6 MB 1.5 MB/s eta 0:00:06\n",
      "     --------                                 2.2/10.6 MB 1.5 MB/s eta 0:00:06\n",
      "     --------                                 2.2/10.6 MB 1.5 MB/s eta 0:00:06\n",
      "     --------                                 2.4/10.6 MB 1.5 MB/s eta 0:00:06\n",
      "     ---------                                2.5/10.6 MB 1.6 MB/s eta 0:00:06\n",
      "     ---------                                2.6/10.6 MB 1.6 MB/s eta 0:00:05\n",
      "     ----------                               2.8/10.6 MB 1.6 MB/s eta 0:00:05\n",
      "     ----------                               2.9/10.6 MB 1.7 MB/s eta 0:00:05\n",
      "     -----------                              3.0/10.6 MB 1.7 MB/s eta 0:00:05\n",
      "     -----------                              3.0/10.6 MB 1.7 MB/s eta 0:00:05\n",
      "     -----------                              3.1/10.6 MB 1.7 MB/s eta 0:00:05\n",
      "     ------------                             3.3/10.6 MB 1.7 MB/s eta 0:00:05\n",
      "     -------------                            3.5/10.6 MB 1.8 MB/s eta 0:00:04\n",
      "     -------------                            3.7/10.6 MB 1.8 MB/s eta 0:00:04\n",
      "     --------------                           3.8/10.6 MB 1.9 MB/s eta 0:00:04\n",
      "     --------------                           3.9/10.6 MB 1.9 MB/s eta 0:00:04\n",
      "     ---------------                          4.0/10.6 MB 1.9 MB/s eta 0:00:04\n",
      "     ---------------                          4.0/10.6 MB 1.9 MB/s eta 0:00:04\n",
      "     ---------------                          4.0/10.6 MB 1.9 MB/s eta 0:00:04\n",
      "     ---------------                          4.0/10.6 MB 1.9 MB/s eta 0:00:04\n",
      "     -----------------                        4.5/10.6 MB 1.9 MB/s eta 0:00:04\n",
      "     -----------------                        4.6/10.6 MB 1.9 MB/s eta 0:00:04\n",
      "     -----------------                        4.8/10.6 MB 2.0 MB/s eta 0:00:04\n",
      "     ------------------                       4.9/10.6 MB 2.0 MB/s eta 0:00:03\n",
      "     ------------------                       4.9/10.6 MB 1.9 MB/s eta 0:00:03\n",
      "     ------------------                       5.0/10.6 MB 1.9 MB/s eta 0:00:03\n",
      "     -------------------                      5.1/10.6 MB 2.0 MB/s eta 0:00:03\n",
      "     -------------------                      5.2/10.6 MB 2.0 MB/s eta 0:00:03\n",
      "     --------------------                     5.4/10.6 MB 2.0 MB/s eta 0:00:03\n",
      "     --------------------                     5.4/10.6 MB 2.0 MB/s eta 0:00:03\n",
      "     --------------------                     5.4/10.6 MB 2.0 MB/s eta 0:00:03\n",
      "     --------------------                     5.4/10.6 MB 2.0 MB/s eta 0:00:03\n",
      "     ---------------------                    5.8/10.6 MB 2.0 MB/s eta 0:00:03\n",
      "     ----------------------                   5.9/10.6 MB 2.0 MB/s eta 0:00:03\n",
      "     ----------------------                   6.1/10.6 MB 2.0 MB/s eta 0:00:03\n",
      "     -----------------------                  6.2/10.6 MB 2.0 MB/s eta 0:00:03\n",
      "     ------------------------                 6.4/10.6 MB 2.1 MB/s eta 0:00:03\n",
      "     ------------------------                 6.6/10.6 MB 2.1 MB/s eta 0:00:02\n",
      "     ------------------------                 6.6/10.6 MB 2.1 MB/s eta 0:00:02\n",
      "     -------------------------                6.7/10.6 MB 2.1 MB/s eta 0:00:02\n",
      "     -------------------------                6.8/10.6 MB 2.1 MB/s eta 0:00:02\n",
      "     --------------------------               7.1/10.6 MB 2.1 MB/s eta 0:00:02\n",
      "     ---------------------------              7.2/10.6 MB 2.1 MB/s eta 0:00:02\n",
      "     ---------------------------              7.2/10.6 MB 2.1 MB/s eta 0:00:02\n",
      "     ---------------------------              7.2/10.6 MB 2.1 MB/s eta 0:00:02\n",
      "     ---------------------------              7.2/10.6 MB 2.1 MB/s eta 0:00:02\n",
      "     ----------------------------             7.6/10.6 MB 2.1 MB/s eta 0:00:02\n",
      "     ----------------------------             7.7/10.6 MB 2.1 MB/s eta 0:00:02\n",
      "     -----------------------------            7.8/10.6 MB 2.2 MB/s eta 0:00:02\n",
      "     -----------------------------            8.0/10.6 MB 2.2 MB/s eta 0:00:02\n",
      "     ------------------------------           8.1/10.6 MB 2.2 MB/s eta 0:00:02\n",
      "     ------------------------------           8.2/10.6 MB 2.2 MB/s eta 0:00:02\n",
      "     -------------------------------          8.3/10.6 MB 2.2 MB/s eta 0:00:02\n",
      "     -------------------------------          8.4/10.6 MB 2.2 MB/s eta 0:00:02\n",
      "     --------------------------------         8.6/10.6 MB 2.2 MB/s eta 0:00:01\n",
      "     --------------------------------         8.7/10.6 MB 2.2 MB/s eta 0:00:01\n",
      "     ---------------------------------        8.9/10.6 MB 2.2 MB/s eta 0:00:01\n",
      "     ---------------------------------        8.9/10.6 MB 2.2 MB/s eta 0:00:01\n",
      "     ---------------------------------        8.9/10.6 MB 2.2 MB/s eta 0:00:01\n",
      "     ---------------------------------        9.0/10.6 MB 2.2 MB/s eta 0:00:01\n",
      "     ----------------------------------       9.1/10.6 MB 2.2 MB/s eta 0:00:01\n",
      "     ----------------------------------       9.2/10.6 MB 2.2 MB/s eta 0:00:01\n",
      "     ----------------------------------       9.3/10.6 MB 2.2 MB/s eta 0:00:01\n",
      "     -----------------------------------      9.4/10.6 MB 2.2 MB/s eta 0:00:01\n",
      "     -----------------------------------      9.5/10.6 MB 2.2 MB/s eta 0:00:01\n",
      "     -----------------------------------      9.5/10.6 MB 2.2 MB/s eta 0:00:01\n",
      "     -----------------------------------      9.6/10.6 MB 2.1 MB/s eta 0:00:01\n",
      "     ------------------------------------     9.6/10.6 MB 2.1 MB/s eta 0:00:01\n",
      "     ------------------------------------     9.8/10.6 MB 2.1 MB/s eta 0:00:01\n",
      "     ------------------------------------     9.8/10.6 MB 2.1 MB/s eta 0:00:01\n",
      "     -------------------------------------    10.0/10.6 MB 2.1 MB/s eta 0:00:01\n",
      "     -------------------------------------    10.1/10.6 MB 2.1 MB/s eta 0:00:01\n",
      "     -------------------------------------    10.1/10.6 MB 2.1 MB/s eta 0:00:01\n",
      "     --------------------------------------   10.3/10.6 MB 2.1 MB/s eta 0:00:01\n",
      "     ---------------------------------------  10.4/10.6 MB 2.1 MB/s eta 0:00:01\n",
      "     ---------------------------------------  10.5/10.6 MB 2.2 MB/s eta 0:00:01\n",
      "     ---------------------------------------  10.6/10.6 MB 2.2 MB/s eta 0:00:01\n",
      "     ---------------------------------------  10.6/10.6 MB 2.2 MB/s eta 0:00:01\n",
      "     ---------------------------------------- 10.6/10.6 MB 2.2 MB/s eta 0:00:00\n",
      "Requirement already satisfied: numpy>=1.23.2 in c:\\users\\nisha\\appdata\\local\\programs\\python\\python311\\lib\\site-packages (from pandas) (1.26.0)\n",
      "Requirement already satisfied: python-dateutil>=2.8.2 in c:\\users\\nisha\\appdata\\local\\programs\\python\\python311\\lib\\site-packages (from pandas) (2.8.2)\n",
      "Collecting pytz>=2020.1 (from pandas)\n",
      "  Downloading pytz-2023.3.post1-py2.py3-none-any.whl (502 kB)\n",
      "                                              0.0/502.5 kB ? eta -:--:--\n",
      "     --                                      30.7/502.5 kB 1.3 MB/s eta 0:00:01\n",
      "     -------                                 92.2/502.5 kB 1.3 MB/s eta 0:00:01\n",
      "     ------------                           163.8/502.5 kB 1.4 MB/s eta 0:00:01\n",
      "     ------------                           163.8/502.5 kB 1.4 MB/s eta 0:00:01\n",
      "     ------------                           163.8/502.5 kB 1.4 MB/s eta 0:00:01\n",
      "     ------------                           163.8/502.5 kB 1.4 MB/s eta 0:00:01\n",
      "     ------------                           163.8/502.5 kB 1.4 MB/s eta 0:00:01\n",
      "     ------------                           163.8/502.5 kB 1.4 MB/s eta 0:00:01\n",
      "     ------------                         174.1/502.5 kB 419.0 kB/s eta 0:00:01\n",
      "     --------------                       204.8/502.5 kB 445.2 kB/s eta 0:00:01\n",
      "     --------------                       204.8/502.5 kB 445.2 kB/s eta 0:00:01\n",
      "     -----------------------              327.7/502.5 kB 580.3 kB/s eta 0:00:01\n",
      "     ------------------------------       419.8/502.5 kB 689.6 kB/s eta 0:00:01\n",
      "     -----------------------------------  501.8/502.5 kB 786.4 kB/s eta 0:00:01\n",
      "     ------------------------------------ 502.5/502.5 kB 750.3 kB/s eta 0:00:00\n",
      "Collecting tzdata>=2022.1 (from pandas)\n",
      "  Downloading tzdata-2023.3-py2.py3-none-any.whl (341 kB)\n",
      "                                              0.0/341.8 kB ? eta -:--:--\n",
      "     ---------------                        143.4/341.8 kB 8.9 MB/s eta 0:00:01\n",
      "     ----------------------------           256.0/341.8 kB 4.0 MB/s eta 0:00:01\n",
      "     -------------------------------------  337.9/341.8 kB 3.0 MB/s eta 0:00:01\n",
      "     -------------------------------------- 341.8/341.8 kB 2.7 MB/s eta 0:00:00\n",
      "Requirement already satisfied: six>=1.5 in c:\\users\\nisha\\appdata\\local\\programs\\python\\python311\\lib\\site-packages (from python-dateutil>=2.8.2->pandas) (1.16.0)\n",
      "Installing collected packages: pytz, tzdata, pandas\n",
      "Successfully installed pandas-2.1.1 pytz-2023.3.post1 tzdata-2023.3\n"
     ]
    },
    {
     "name": "stderr",
     "output_type": "stream",
     "text": [
      "\n",
      "[notice] A new release of pip is available: 23.1.2 -> 23.2.1\n",
      "[notice] To update, run: python.exe -m pip install --upgrade pip\n"
     ]
    }
   ],
   "source": [
    "pip install pandas"
   ]
  },
  {
   "cell_type": "code",
   "execution_count": 2,
   "id": "19acdd0d-aa57-484b-9be8-02378266235b",
   "metadata": {},
   "outputs": [
    {
     "name": "stdout",
     "output_type": "stream",
     "text": [
      "2.1.1\n"
     ]
    }
   ],
   "source": [
    "import pandas as pd\n",
    "print(pd.__version__)"
   ]
  },
  {
   "cell_type": "markdown",
   "id": "d615d2fd-ade2-46c7-a778-6944e35549ad",
   "metadata": {},
   "source": [
    "# Series Creation"
   ]
  },
  {
   "cell_type": "code",
   "execution_count": 4,
   "id": "9f83e86b-b73a-43f7-ae60-218c0bc885f2",
   "metadata": {},
   "outputs": [
    {
     "data": {
      "text/plain": [
       "0     35.467\n",
       "1     63.951\n",
       "2     80.940\n",
       "3     60.665\n",
       "4    127.067\n",
       "5     64.511\n",
       "6    318.523\n",
       "dtype: float64"
      ]
     },
     "execution_count": 4,
     "metadata": {},
     "output_type": "execute_result"
    }
   ],
   "source": [
    "import pandas as pd\n",
    "series1 = pd.Series([35.467,63.951,80.940,60.665,127.067,64.511,318.523])\n",
    "series1"
   ]
  },
  {
   "cell_type": "code",
   "execution_count": 5,
   "id": "0037f85c-cc66-43e6-a90f-f7948a4c6d20",
   "metadata": {},
   "outputs": [
    {
     "data": {
      "text/plain": [
       "0      10\n",
       "1      hi\n",
       "2    30.5\n",
       "3    True\n",
       "4      50\n",
       "dtype: object"
      ]
     },
     "execution_count": 5,
     "metadata": {},
     "output_type": "execute_result"
    }
   ],
   "source": [
    "l1 = [10,\"hi\",30.5,True,50]\n",
    "new_series1 = pd.Series(l1)\n",
    "new_series1"
   ]
  },
  {
   "cell_type": "code",
   "execution_count": 7,
   "id": "457091f8-577e-41c1-8b05-54949bd70f57",
   "metadata": {},
   "outputs": [
    {
     "data": {
      "text/plain": [
       "Canada    35.4\n",
       "France    63.9\n",
       "Italy     53.9\n",
       "dtype: float64"
      ]
     },
     "execution_count": 7,
     "metadata": {},
     "output_type": "execute_result"
    }
   ],
   "source": [
    "dict_series = pd.Series({'Canada':35.4,'France':63.9,'Italy':53.9})\n",
    "dict_series"
   ]
  },
  {
   "cell_type": "markdown",
   "id": "929f10cc-4bb1-4fbe-99ef-ecf816981e73",
   "metadata": {},
   "source": [
    "# Index"
   ]
  },
  {
   "cell_type": "code",
   "execution_count": 8,
   "id": "145fe71a-4030-40eb-ad89-f2972f7934ec",
   "metadata": {},
   "outputs": [
    {
     "name": "stdout",
     "output_type": "stream",
     "text": [
      "Canada      35.467\n",
      "Italy       63.951\n",
      "USA         80.940\n",
      "UK          60.665\n",
      "France     127.067\n",
      "Germany     64.511\n",
      "Japan      318.523\n",
      "dtype: float64\n"
     ]
    }
   ],
   "source": [
    "series2 = pd.Series([35.467,63.951,80.940,60.665,127.067,64.511,318.523],index=[\"Canada\",\"Italy\",\"USA\",\"UK\",\"France\",\"Germany\",\"Japan\"])\n",
    "print(series2)"
   ]
  },
  {
   "cell_type": "code",
   "execution_count": 11,
   "id": "8e8a4381-1304-468a-9c65-53869f7a103d",
   "metadata": {},
   "outputs": [
    {
     "data": {
      "text/plain": [
       "A    10\n",
       "B    20\n",
       "C    30\n",
       "D    40\n",
       "E    50\n",
       "dtype: int64"
      ]
     },
     "execution_count": 11,
     "metadata": {},
     "output_type": "execute_result"
    }
   ],
   "source": [
    "data = [10,20,30,40,50]\n",
    "index_labels = ['A','B','C','D','E']\n",
    "series3 = pd.Series(data,index = index_labels)\n",
    "series3"
   ]
  },
  {
   "cell_type": "code",
   "execution_count": 13,
   "id": "e42e3f1d-aac3-478b-a58c-c32d28a6d16f",
   "metadata": {},
   "outputs": [
    {
     "data": {
      "text/plain": [
       "1    10\n",
       "2    20\n",
       "3    30\n",
       "4    40\n",
       "5    50\n",
       "dtype: int64"
      ]
     },
     "execution_count": 13,
     "metadata": {},
     "output_type": "execute_result"
    }
   ],
   "source": [
    "series3.index = [1,2,3,4,5]\n",
    "series3"
   ]
  },
  {
   "cell_type": "code",
   "execution_count": null,
   "id": "fcdc3c90-1243-4081-aeaf-52147c53159d",
   "metadata": {},
   "outputs": [],
   "source": []
  }
 ],
 "metadata": {
  "kernelspec": {
   "display_name": "Python 3 (ipykernel)",
   "language": "python",
   "name": "python3"
  },
  "language_info": {
   "codemirror_mode": {
    "name": "ipython",
    "version": 3
   },
   "file_extension": ".py",
   "mimetype": "text/x-python",
   "name": "python",
   "nbconvert_exporter": "python",
   "pygments_lexer": "ipython3",
   "version": "3.11.4"
  }
 },
 "nbformat": 4,
 "nbformat_minor": 5
}
